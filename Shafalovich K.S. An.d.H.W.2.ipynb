{
  "nbformat": 4,
  "nbformat_minor": 0,
  "metadata": {
    "colab": {
      "provenance": [],
      "include_colab_link": true
    },
    "kernelspec": {
      "name": "python3",
      "display_name": "Python 3"
    },
    "language_info": {
      "name": "python"
    }
  },
  "cells": [
    {
      "cell_type": "markdown",
      "metadata": {
        "id": "view-in-github",
        "colab_type": "text"
      },
      "source": [
        "<a href=\"https://colab.research.google.com/github/ShafalovichK/HW3/blob/main/Shafalovich%20K.S.%20An.d.H.W.2.ipynb\" target=\"_parent\"><img src=\"https://colab.research.google.com/assets/colab-badge.svg\" alt=\"Open In Colab\"/></a>"
      ]
    },
    {
      "cell_type": "markdown",
      "source": [
        "Если в работе будут недочеты, готова их исправить. Отправьте, пожалуйста, на доработку."
      ],
      "metadata": {
        "id": "cRGHyIME46P4"
      }
    },
    {
      "cell_type": "code",
      "execution_count": 21,
      "metadata": {
        "id": "72zt48OKJRcE"
      },
      "outputs": [],
      "source": [
        "import pandas as pd  # Библиотека для работы с данными в виде таблицы DataFrame\n",
        "import glob  # Библиотека для работы с путями к файлам и списками файлов в директории\n",
        "import numpy as np  #  для выполнения вычислений с массивами и матрицами\n",
        "from scipy.stats import shapiro, kstest  # Функции для проверки на нормальность распределения\n",
        "from scipy.stats import mannwhitneyu  # Функция для выполнения непараметрического теста Манна-Уитни\n",
        "from scipy.stats import chi2_contingency  # Функция для выполнения теста на независимость категориальных переменных\n",
        "from scipy.stats import ttest_ind, ttest_rel # Функция для выполнения t-теста для независимых выборок\n",
        "from scipy.stats import fligner # Функция для выполнения теста Флигнера\n",
        "from datetime import datetime  # Модуль для работы с датами и временем\n",
        "from scipy import stats  # Библиотека для выполнения различных статистических тестов и операций\n",
        "import seaborn as sns  # Библиотека для визуализации данных на основе matplotlib\n",
        "import matplotlib.pyplot as plt  # Библиотека для создания графиков и визуализации данных\n",
        "from scipy.stats import ks_2samp  # Функция для выполнения двухвыборочного теста Колмогорова-Смирнова\n",
        "from statsmodels.stats.proportion import proportions_ztest # Функция для выполнения Z-теста\n",
        "from scipy.stats import ranksums # Импорт функции ranksums из модуля scipy.stats для выполнения теста Уилкоксона"
      ]
    },
    {
      "cell_type": "code",
      "source": [
        "# Источник данных https://github.com/JeffSackmann/tennis_atp\n",
        "# Загрузка данных из всех, предварительно скаченных, файлов\n",
        "file_pattern = \"atp_matches_*.csv\"\n",
        "file_paths = glob.glob(file_pattern)\n",
        "\n",
        "# Создание пустого DataFrame для хранения данных\n",
        "all_matches = pd.DataFrame()\n",
        "\n",
        "# Чтение данных из каждого файла и их объединение\n",
        "for file in file_paths:\n",
        "    matches = pd.read_csv(file)\n",
        "    all_matches = pd.concat([all_matches, matches], ignore_index=True)\n",
        "\n",
        "# Предобработка данных\n",
        "# Преобразование столбца с датой в формат datetime\n",
        "all_matches['tourney_date'] = pd.to_datetime(all_matches['tourney_date'], format='%Y%m%d')\n",
        "\n",
        "# Заполнение пропущенных значений\n",
        "all_matches.fillna(value={'winner_rank': 0, 'loser_rank': 0}, inplace=True)\n",
        "\n",
        "# Удаление дубликатов\n",
        "all_matches.drop_duplicates(inplace=True)\n",
        "\n",
        "# Преобразование типов данных\n",
        "all_matches['winner_rank'] = all_matches['winner_rank'].astype(int)\n",
        "all_matches['loser_rank'] = all_matches['loser_rank'].astype(int)\n",
        "\n",
        "# Вывод информации о первых нескольких строках данных для проверки\n",
        "print(all_matches.head())\n",
        "\n",
        "# Сохранение предобработанных данных в файл\n",
        "all_matches.to_csv('preprocessed_atp_matches.csv', index=False)"
      ],
      "metadata": {
        "colab": {
          "base_uri": "https://localhost:8080/"
        },
        "id": "Xa6QNWnMhUXh",
        "outputId": "000c4e05-d0f4-462a-8710-c1a7f8555abf"
      },
      "execution_count": 22,
      "outputs": [
        {
          "output_type": "stream",
          "name": "stdout",
          "text": [
            "  tourney_id tourney_name surface  draw_size tourney_level tourney_date  \\\n",
            "0   1988-201      Guaruja    Hard       32.0             A   1988-01-25   \n",
            "1   1988-201      Guaruja    Hard       32.0             A   1988-01-25   \n",
            "2   1988-201      Guaruja    Hard       32.0             A   1988-01-25   \n",
            "3   1988-201      Guaruja    Hard       32.0             A   1988-01-25   \n",
            "4   1988-201      Guaruja    Hard       32.0             A   1988-01-25   \n",
            "\n",
            "   match_num  winner_id  winner_seed winner_entry  ... l_1stIn l_1stWon  \\\n",
            "0          1     100586          1.0          NaN  ...     NaN      NaN   \n",
            "1          2     101133          NaN          NaN  ...     NaN      NaN   \n",
            "2          3     100669          NaN          NaN  ...     NaN      NaN   \n",
            "3          4     100782          8.0          NaN  ...     NaN      NaN   \n",
            "4          5     101318          4.0          NaN  ...     NaN      NaN   \n",
            "\n",
            "   l_2ndWon l_SvGms  l_bpSaved  l_bpFaced  winner_rank winner_rank_points  \\\n",
            "0       NaN     NaN        NaN        NaN           22                NaN   \n",
            "1       NaN     NaN        NaN        NaN          182                NaN   \n",
            "2       NaN     NaN        NaN        NaN          232                NaN   \n",
            "3       NaN     NaN        NaN        NaN          139                NaN   \n",
            "4       NaN     NaN        NaN        NaN          138                NaN   \n",
            "\n",
            "  loser_rank loser_rank_points  \n",
            "0        251               NaN  \n",
            "1        317               NaN  \n",
            "2        205               NaN  \n",
            "3        190               NaN  \n",
            "4        157               NaN  \n",
            "\n",
            "[5 rows x 49 columns]\n"
          ]
        }
      ]
    },
    {
      "cell_type": "markdown",
      "source": [
        "Вы хотите узнать, как много значит ранг игрока в теннисе. Проверьте следующие утверждения:"
      ],
      "metadata": {
        "id": "9whDiZtqdBvs"
      }
    },
    {
      "cell_type": "markdown",
      "source": [
        "а) Если ранг игрока выше более, чем на 20 позиций, то в среднем он будет выигрывать с большей вероятностью. (Если хотите проверить статистически — формируйте выборку как отклонение от ожидаемого количества побед при случайном исходе);"
      ],
      "metadata": {
        "id": "uACA52stdC_7"
      }
    },
    {
      "cell_type": "code",
      "source": [
        "# Фильтрация данных по одиночным матчам\n",
        "singles_data = all_matches[all_matches['draw_size'] == 128]\n",
        "\n",
        "# Создаем столбец 'rank_difference'\n",
        "singles_data.loc[:, 'rank_difference'] = singles_data['winner_rank'] - singles_data['loser_rank']\n",
        "\n",
        "# Функция для определения, выиграл ли игрок с более высоким рангом\n",
        "def higher_rank_win(row):\n",
        "    return (row['winner_rank'] - row['loser_rank']) > 20\n",
        "\n",
        "# Создаем столбец 'higher_rank_win'\n",
        "singles_data.loc[:, 'higher_rank_win'] = singles_data.apply(higher_rank_win, axis=1)\n",
        "\n",
        "# Фильтруем данные для первой выборки: игроки с разницей в ранге более чем на 20 позиций от противника\n",
        "df_rank_1 = singles_data[singles_data['rank_difference'] > 20]\n",
        "\n",
        "# Фильтруем данные для второй выборки: игроки с близким рангом к противнику (отличие менее 20 позиций)\n",
        "df_rank_2 = singles_data[singles_data['rank_difference'] <= 20]\n",
        "\n",
        "# Вычисляем ожидаемое количество побед для каждой выборки\n",
        "expected_wins_1 = len(df_rank_1) * 0.5  # 0.5 - вероятность выигрыша при равных шансах\n",
        "expected_wins_2 = len(df_rank_2) * 0.5\n",
        "\n",
        "# Считаем фактическое количество побед для каждой выборки\n",
        "actual_wins_1 = df_rank_1['higher_rank_win'].sum()\n",
        "actual_wins_2 = df_rank_2['higher_rank_win'].sum()\n",
        "\n",
        "# Вычисляем отклонение фактического количества побед от ожидаемого для каждой выборки\n",
        "deviation_1 = actual_wins_1 - expected_wins_1\n",
        "deviation_2 = actual_wins_2 - expected_wins_2\n",
        "\n",
        "# Рассчитываем среднее отклонение для каждой выборки\n",
        "mean_deviation_1 = deviation_1 / len(df_rank_1)\n",
        "mean_deviation_2 = deviation_2 / len(df_rank_2)\n",
        "\n",
        "# Сравниваем средние отклонения между выборками\n",
        "if mean_deviation_1 > mean_deviation_2:\n",
        "    print(\"Среднее отклонение в первой выборке выше, что подтверждает гипотезу о большей вероятности выигрыша у игроков с более высоким рангом.\")\n",
        "else:\n",
        "    print(\"Среднее отклонение во второй выборке выше или одинаково, что не подтверждает гипотезу о большей вероятности выигрыша у игроков с более высоким рангом.\")"
      ],
      "metadata": {
        "colab": {
          "base_uri": "https://localhost:8080/"
        },
        "id": "6GuIQc12lwWQ",
        "outputId": "5e8d68fd-669f-4037-b701-75d67b6cdf58"
      },
      "execution_count": 23,
      "outputs": [
        {
          "output_type": "stream",
          "name": "stderr",
          "text": [
            "<ipython-input-23-04ea07d5ad40>:5: SettingWithCopyWarning: \n",
            "A value is trying to be set on a copy of a slice from a DataFrame.\n",
            "Try using .loc[row_indexer,col_indexer] = value instead\n",
            "\n",
            "See the caveats in the documentation: https://pandas.pydata.org/pandas-docs/stable/user_guide/indexing.html#returning-a-view-versus-a-copy\n",
            "  singles_data.loc[:, 'rank_difference'] = singles_data['winner_rank'] - singles_data['loser_rank']\n"
          ]
        },
        {
          "output_type": "stream",
          "name": "stdout",
          "text": [
            "Среднее отклонение в первой выборке выше, что подтверждает гипотезу о большей вероятности выигрыша у игроков с более высоким рангом.\n"
          ]
        },
        {
          "output_type": "stream",
          "name": "stderr",
          "text": [
            "<ipython-input-23-04ea07d5ad40>:12: SettingWithCopyWarning: \n",
            "A value is trying to be set on a copy of a slice from a DataFrame.\n",
            "Try using .loc[row_indexer,col_indexer] = value instead\n",
            "\n",
            "See the caveats in the documentation: https://pandas.pydata.org/pandas-docs/stable/user_guide/indexing.html#returning-a-view-versus-a-copy\n",
            "  singles_data.loc[:, 'higher_rank_win'] = singles_data.apply(higher_rank_win, axis=1)\n"
          ]
        }
      ]
    },
    {
      "cell_type": "code",
      "source": [
        "# Применение теста Шапиро-Уилка для проверки нормальности данных\n",
        "# Документация: https://docs.scipy.org/doc/scipy/reference/generated/scipy.stats.shapiro.html\n",
        "\n",
        "# Применение теста Колмогорова-Смирнова  для проверки нормальности распределения данных,\n",
        "#  в контексте анализа нормальности данных перед применением статистических тестов\n",
        "# Документация: https://docs.scipy.org/doc/scipy/reference/generated/scipy.stats.kstest.html\n",
        "\n",
        "# Применение теста Манна-Уитни для сравнения двух независимых выборок\n",
        "# Документация: https://docs.scipy.org/doc/scipy/reference/generated/scipy.stats.mannwhitneyu.html\n",
        "\n",
        "# Проверка нормальности для первой выборки (игроки с разницей в ранге более 20 позиций)\n",
        "stat_1, p_value_1 = shapiro(df_rank_1['higher_rank_win'])\n",
        "print(f\"Тест Шапиро-Уилка для первой выборки: statistic = {stat_1}, p-value = {p_value_1}\")\n",
        "\n",
        "# Проверка нормальности для второй выборки (игроки с разницей в ранге менее или равной 20 позициям)\n",
        "stat_2, p_value_2 = shapiro(df_rank_2['higher_rank_win'])\n",
        "print(f\"Тест Шапиро-Уилка для второй выборки: statistic = {stat_2}, p-value = {p_value_2}\")\n",
        "\n",
        "ks_stat_1, ks_p_value_1 = kstest(df_rank_1['higher_rank_win'], 'norm')\n",
        "ks_stat_2, ks_p_value_2 = kstest(df_rank_2['higher_rank_win'], 'norm')\n",
        "print(f\"Тест Колмогорова-Смирнова для первой выборки: statistic = {ks_stat_1}, p-value = {ks_p_value_1}\")\n",
        "print(f\"Тест Колмогорова-Смирнова для второй выборки: statistic = {ks_stat_2}, p-value = {ks_p_value_2}\")\n",
        "# Применение теста Манна-Уитни\n",
        "statistic, p_value = mannwhitneyu(df_rank_1['higher_rank_win'], df_rank_2['higher_rank_win'])\n",
        "\n",
        "# Вывод результатов\n",
        "print(f\"Статистика теста Манна-Уитни: {statistic}\")\n",
        "print(f\"p-value теста Манна-Уитни: {p_value}\")\n",
        "\n",
        "alpha = 0.05\n",
        "\n",
        "if p_value < alpha:\n",
        "    print(\"Различия между выборками статистически значимы.\")\n",
        "else:\n",
        "    print(\"Нет статистически значимых различий между выборками.\")"
      ],
      "metadata": {
        "colab": {
          "base_uri": "https://localhost:8080/"
        },
        "id": "2ysOl_oLl_XZ",
        "outputId": "6184e15e-6e10-4d3a-a7ff-780466a848de"
      },
      "execution_count": 24,
      "outputs": [
        {
          "output_type": "stream",
          "name": "stdout",
          "text": [
            "Тест Шапиро-Уилка для первой выборки: statistic = 1.0, p-value = 1.0\n",
            "Тест Шапиро-Уилка для второй выборки: statistic = 1.0, p-value = 1.0\n",
            "Тест Колмогорова-Смирнова для первой выборки: statistic = 0.8413447460685429, p-value = 0.0\n",
            "Тест Колмогорова-Смирнова для второй выборки: statistic = 0.5, p-value = 0.0\n",
            "Статистика теста Манна-Уитни: 129428418.0\n",
            "p-value теста Манна-Уитни: 0.0\n",
            "Различия между выборками статистически значимы.\n"
          ]
        },
        {
          "output_type": "stream",
          "name": "stderr",
          "text": [
            "/usr/local/lib/python3.10/dist-packages/scipy/stats/_morestats.py:1879: UserWarning: Input data for shapiro has range zero. The results may not be accurate.\n",
            "  warnings.warn(\"Input data for shapiro has range zero. The results \"\n",
            "/usr/local/lib/python3.10/dist-packages/scipy/stats/_morestats.py:1882: UserWarning: p-value may not be accurate for N > 5000.\n",
            "  warnings.warn(\"p-value may not be accurate for N > 5000.\")\n"
          ]
        }
      ]
    },
    {
      "cell_type": "markdown",
      "source": [
        "Тесты Шапиро-Уилка показали, что данные не соответствуют нормальному распределению, так как p-value значительно больше уровня значимости 0.05. Это означает, что мы не можем применять статистические методы, которые предполагают нормальное распределение данных.\n",
        "Тесты Колмогорова-Смирнова также указывают на то, что данные не соответствуют нормальному распределению, так как p-value равно 0.0 для обеих выборок.\n",
        "Тест Манна-Уитни дал p-value равное 0.0, что означает, что различия между двумя выборками статистически значимы на уровне значимости 0.05. Это подтверждает, что есть статистически значимые различия в вероятности выигрыша между игроками с разницей в ранге более 20 позиций и игроками с более близкими рангами.\n",
        "Поэтому мы можем заключить, что игроки с более высоким рангом имеют статистически значимую вероятность выигрыша по сравнению с игроками с более близкими рангами к противнику."
      ],
      "metadata": {
        "id": "c0dqSsJ1rJba"
      }
    },
    {
      "cell_type": "markdown",
      "source": [
        "б) Если ранг игрока находится в окне +-5 позиций, то вероятность победы будет значительно отличаться от гипотезы из предыдущего случая. Для проверки статистической значимости выборку можно сделать как среднее по годам (например, с 1980 по 2022г.). Подумайте, как правильно сформировать репрезентативную выборку."
      ],
      "metadata": {
        "id": "F1b3CrQfyXLY"
      }
    },
    {
      "cell_type": "code",
      "source": [
        "# Применение Хи-квадрат тест (Chi-square test)  для проверки статистической значимости между двумя или более категориальными переменными.\n",
        "# Документация: https://docs.scipy.org/doc/scipy/reference/generated/scipy.stats.chi2_contingency.html\n",
        "# Фильтрация данных по одиночным матчам\n",
        "singles_data = all_matches[all_matches['draw_size'] == 128]\n",
        "\n",
        "# Создаем столбец с разницей в ранге между игроками\n",
        "singles_data['rank_difference'] = singles_data['winner_rank'] - singles_data['loser_rank']\n",
        "\n",
        "# Формируем выборку игроков, у которых разница в ранге от -5 до +5 позиций\n",
        "close_rank_players = singles_data[(singles_data['rank_difference'] >= -5) & (singles_data['rank_difference'] <= 5)]\n",
        "\n",
        "# Подсчет количества побед игроков с близким рангом\n",
        "wins_close_rank = close_rank_players['winner_id'].count()\n",
        "\n",
        "# Подсчет общего числа матчей игроков с близким рангом\n",
        "total_matches_close_rank = close_rank_players.shape[0]\n",
        "\n",
        "# Подсчет общего числа матчей\n",
        "total_matches = singles_data.shape[0]\n",
        "\n",
        "# Подсчет вероятности победы игрока с близким рангом\n",
        "probability_close_rank = wins_close_rank / total_matches_close_rank\n",
        "\n",
        "# Подсчет вероятности победы в общей выборке\n",
        "probability_total = singles_data['winner_id'].count() / total_matches\n",
        "\n",
        "# Построение таблицы сопряженности для Хи-квадрат теста\n",
        "contingency_table = pd.crosstab(index=singles_data['winner_id'], columns=singles_data['rank_difference'])\n",
        "\n",
        "# Применение Хи-квадрат теста\n",
        "chi2, p, dof, expected = chi2_contingency(contingency_table)\n",
        "\n",
        "# Вывод результатов\n",
        "print(f\"Вероятность победы игрока с близким рангом: {probability_close_rank}\")\n",
        "print(f\"Вероятность победы в общей выборке: {probability_total}\")\n",
        "print(f\"p-значение Хи-квадрат теста: {p}\")\n",
        "\n",
        "# Интерпретация результатов\n",
        "if p < 0.05:\n",
        "    print(\"Разница в вероятностях победы статистически значима.\")\n",
        "else:\n",
        "    print(\"Нет статистически значимой разницы в вероятностях победы.\")"
      ],
      "metadata": {
        "colab": {
          "base_uri": "https://localhost:8080/"
        },
        "id": "nLgQA7Esw1mj",
        "outputId": "a97a5498-0ecb-4ab9-b97d-35bf07037bed"
      },
      "execution_count": 25,
      "outputs": [
        {
          "output_type": "stream",
          "name": "stderr",
          "text": [
            "<ipython-input-25-b400ca01e9b4>:7: SettingWithCopyWarning: \n",
            "A value is trying to be set on a copy of a slice from a DataFrame.\n",
            "Try using .loc[row_indexer,col_indexer] = value instead\n",
            "\n",
            "See the caveats in the documentation: https://pandas.pydata.org/pandas-docs/stable/user_guide/indexing.html#returning-a-view-versus-a-copy\n",
            "  singles_data['rank_difference'] = singles_data['winner_rank'] - singles_data['loser_rank']\n"
          ]
        },
        {
          "output_type": "stream",
          "name": "stdout",
          "text": [
            "Вероятность победы игрока с близким рангом: 1.0\n",
            "Вероятность победы в общей выборке: 1.0\n",
            "p-значение Хи-квадрат теста: 0.0\n",
            "Разница в вероятностях победы статистически значима.\n"
          ]
        }
      ]
    },
    {
      "cell_type": "markdown",
      "source": [
        "Применение хи-квадрат теста в коде позволяет определить, есть ли статистически значимая связь между результатом матча и уровнем брейк-поинтов. Это помогает нам понять, влияют ли брейк-поинты на исход игры и как они связаны с победами или поражениями"
      ],
      "metadata": {
        "id": "TP8JGKRLhtS7"
      }
    },
    {
      "cell_type": "markdown",
      "source": [
        "Правда ли, что среднее количество сетов, которое необходимо любому игроку для победы в матче, сокращается со временем? Разбейте данные на две группы — с 1980 до 2001 гг. и 2002-2022 гг. Как изменилось среднее количество сетов, которое победитель затратил на игру? Является ли разница средних этих двух выборок статистически значимой? Выбор статистического теста обоснуйте."
      ],
      "metadata": {
        "id": "TrdafKeey0Zx"
      }
    },
    {
      "cell_type": "code",
      "source": [
        "# Проверка нормальности распределения\n",
        "def check_normality(data):\n",
        "    # Используем тест Шапиро-Уилка для проверки нормальности\n",
        "    _, p_value = stats.shapiro(data)\n",
        "    print(f\"p-value теста Шапиро-Уилка: {p_value}\")\n",
        "    if p_value > 0.05:\n",
        "        print(\"Распределение является нормальным.\")\n",
        "    else:\n",
        "        print(\"Распределение не является нормальным.\")\n",
        "# Тест Флигнера-Килина (Fligner-Killeen test) используется для проверки равенства дисперсий между несколькими группами данных.\n",
        "# Этот тест является непараметрическим и не требует предположения о нормальности данных.\n",
        "# Документация: https://docs.scipy.org/doc//scipy-1.8.0/reference/generated/scipy.stats.fligner.html\n",
        "# Проверка равенства дисперсий\n",
        "def check_equality_of_variances(data1, data2):\n",
        "    # Используем тест Флигнера-Килина для проверки равенства дисперсий\n",
        "    _, p_value = stats.fligner(data1, data2)\n",
        "    print(f\"p-value теста Флигнера-Килина: {p_value}\")\n",
        "    if p_value > 0.05:\n",
        "        print(\"Дисперсии примеров равны.\")\n",
        "    else:\n",
        "        print(\"Дисперсии примеров не равны.\")\n",
        "\n",
        "# Проведение t-теста\n",
        "def perform_t_test(data1, data2):\n",
        "    # Проверяем предпосылки t-теста: нормальность и равенство дисперсий\n",
        "    if stats.shapiro(data1)[1] > 0.05 and stats.shapiro(data2)[1] > 0.05:\n",
        "        if stats.fligner(data1, data2)[1] > 0.05:\n",
        "            # Проводим t-тест\n",
        "            t_statistic, p_value = stats.ttest_ind(data1, data2)\n",
        "            print(f\"Значение t-статистики: {t_statistic}\")\n",
        "            print(f\"p-значение теста: {p_value}\")\n",
        "            if p_value < 0.05:\n",
        "                print(\"Различие между группами статистически значимо.\")\n",
        "            else:\n",
        "                print(\"Различие между группами не является статистически значимым.\")\n",
        "        else:\n",
        "            print(\"Дисперсии примеров не равны. Нельзя использовать t-тест.\")\n",
        "    else:\n",
        "        print(\"Один из наборов данных не прошел тест на нормальность. Нельзя использовать t-тест.\")\n",
        "\n",
        "# Генерация данных для примера\n",
        "# Предположим, у нас есть две группы данных data1 и data2\n",
        "data1 = np.random.normal(loc=50, scale=10, size=50)\n",
        "data2 = np.random.normal(loc=55, scale=10, size=50)\n",
        "\n",
        "# Проверяем нормальность распределения\n",
        "check_normality(data1)\n",
        "check_normality(data2)\n",
        "\n",
        "# Проверяем равенство дисперсий\n",
        "check_equality_of_variances(data1, data2)\n",
        "\n",
        "# Проводим t-тест\n",
        "perform_t_test(data1, data2)\n"
      ],
      "metadata": {
        "colab": {
          "base_uri": "https://localhost:8080/"
        },
        "id": "26tQKyJtkYc8",
        "outputId": "6e49f6ee-7bd4-4cbe-8bff-db9b0c29d5c2"
      },
      "execution_count": 26,
      "outputs": [
        {
          "output_type": "stream",
          "name": "stdout",
          "text": [
            "p-value теста Шапиро-Уилка: 0.7331864833831787\n",
            "Распределение является нормальным.\n",
            "p-value теста Шапиро-Уилка: 0.26059043407440186\n",
            "Распределение является нормальным.\n",
            "p-value теста Флигнера-Килина: 0.6928135651284777\n",
            "Дисперсии примеров равны.\n",
            "Значение t-статистики: -1.0749145460504432\n",
            "p-значение теста: 0.2850523830337029\n",
            "Различие между группами не является статистически значимым.\n"
          ]
        }
      ]
    },
    {
      "cell_type": "code",
      "source": [
        "# Фильтрация данных по одиночным матчам\n",
        "singles_data = all_matches[all_matches['draw_size'] == 128]\n",
        "\n",
        "# Функция для подсчета количества сетов в матче\n",
        "def count_sets(score):\n",
        "    return len(score.split())\n",
        "\n",
        "# Применяем функцию к данным и создаем новый столбец с количеством сетов в матче\n",
        "singles_data['sets_count'] = singles_data['score'].apply(count_sets)\n",
        "\n",
        "# Создаем объекты datetime для указанных дат\n",
        "start_date_1 = datetime(1980, 1, 1)\n",
        "end_date_1 = datetime(2001, 12, 31)\n",
        "\n",
        "start_date_2 = datetime(2002, 1, 1)\n",
        "end_date_2 = datetime(2022, 12, 31)\n",
        "\n",
        "# Разделяем данные на две группы по указанным периодам\n",
        "group_1 = singles_data[(singles_data['tourney_date'] >= start_date_1) & (singles_data['tourney_date'] <= end_date_1)]\n",
        "group_2 = singles_data[(singles_data['tourney_date'] >= start_date_2) & (singles_data['tourney_date'] <= end_date_2)]\n",
        "\n",
        "# Подсчитываем среднее количество сетов в каждой группе\n",
        "mean_sets_group_1 = group_1['sets_count'].mean()\n",
        "mean_sets_group_2 = group_2['sets_count'].mean()\n",
        "\n",
        "# Проверяем статистическую значимость различия средних с помощью t-теста\n",
        "t_stat, p_value = ttest_ind(group_1['sets_count'], group_2['sets_count'])\n",
        "\n",
        "# Вывод результатов\n",
        "print(f\"Среднее количество сетов в период 1980-2001: {mean_sets_group_1}\")\n",
        "print(f\"Среднее количество сетов в период 2002-2022: {mean_sets_group_2}\")\n",
        "print(f\"p-value теста: {p_value}\")\n",
        "\n",
        "if p_value < 0.05:\n",
        "    print(\"Разница средних статистически значима.\")\n",
        "else:\n",
        "    print(\"Разница средних не является статистически значимой.\")"
      ],
      "metadata": {
        "colab": {
          "base_uri": "https://localhost:8080/"
        },
        "id": "cuADGcLJyzae",
        "outputId": "ee49aef7-1b5a-4e21-a137-34eed8ee97d0"
      },
      "execution_count": 27,
      "outputs": [
        {
          "output_type": "stream",
          "name": "stdout",
          "text": [
            "Среднее количество сетов в период 1980-2001: 3.6719777674849468\n",
            "Среднее количество сетов в период 2002-2022: 3.5514082698399108\n",
            "p-value теста: 1.0501603516733718e-26\n",
            "Разница средних статистически значима.\n"
          ]
        },
        {
          "output_type": "stream",
          "name": "stderr",
          "text": [
            "<ipython-input-27-9cd5c8012299>:9: SettingWithCopyWarning: \n",
            "A value is trying to be set on a copy of a slice from a DataFrame.\n",
            "Try using .loc[row_indexer,col_indexer] = value instead\n",
            "\n",
            "See the caveats in the documentation: https://pandas.pydata.org/pandas-docs/stable/user_guide/indexing.html#returning-a-view-versus-a-copy\n",
            "  singles_data['sets_count'] = singles_data['score'].apply(count_sets)\n"
          ]
        }
      ]
    },
    {
      "cell_type": "markdown",
      "source": [
        "У вас появились сомнения — не является ли результат, который вы посчитали на предыдущем шаге, некорректным. Кажется, что на это мог повлиять формат самого матча — best of 3 или best of 5. Оставьте только матчи best of 5 (колонка best_of) и определите — является ли разница среднего количества сетов, которое сыграл победитель, значимой для выборок матчей по 1980 до 2001 гг. и 2002-2022 гг. Выбор статистического теста обоснуйте."
      ],
      "metadata": {
        "id": "CvUGgatU1w0j"
      }
    },
    {
      "cell_type": "code",
      "source": [
        "pd.to_datetime('1980-01-01')\n",
        "pd.to_datetime('2001-12-31')"
      ],
      "metadata": {
        "colab": {
          "base_uri": "https://localhost:8080/"
        },
        "id": "7aOYcaj25Hpv",
        "outputId": "eace33ab-9d38-4c75-9cc4-3fe8a5628c45"
      },
      "execution_count": 28,
      "outputs": [
        {
          "output_type": "execute_result",
          "data": {
            "text/plain": [
              "Timestamp('2001-12-31 00:00:00')"
            ]
          },
          "metadata": {},
          "execution_count": 28
        }
      ]
    },
    {
      "cell_type": "code",
      "source": [
        "# Фильтрация данных по матчам формата best of 5\n",
        "singles_data_bo5 = singles_data[singles_data['best_of'] == 5]\n",
        "\n",
        "# Разделение данных на две временные группы\n",
        "group_1_bo5 = singles_data_bo5[(singles_data_bo5['tourney_date'] >= pd.to_datetime('1980-01-01')) & (singles_data_bo5['tourney_date'] <= pd.to_datetime('2001-12-31'))]\n",
        "group_2_bo5 = singles_data_bo5[(singles_data_bo5['tourney_date'] >= pd.to_datetime('2002-01-01')) & (singles_data_bo5['tourney_date'] <= pd.to_datetime('2022-12-31'))]\n",
        "\n",
        "# Вычисление среднего количества сетов в каждой временной группе\n",
        "mean_sets_group_1_bo5 = group_1_bo5['sets_count'].mean()\n",
        "mean_sets_group_2_bo5 = group_2_bo5['sets_count'].mean()\n",
        "\n",
        "# Проверка нормальности распределения количества сетов в каждой группе\n",
        "statistic_group_1, p_value_group_1 = shapiro(group_1_bo5['sets_count'])\n",
        "statistic_group_2, p_value_group_2 = shapiro(group_2_bo5['sets_count'])\n",
        "\n",
        "print(f\"p-value для группы 1: {p_value_group_1}\")\n",
        "print(f\"p-value для группы 2: {p_value_group_2}\")"
      ],
      "metadata": {
        "colab": {
          "base_uri": "https://localhost:8080/"
        },
        "id": "FyNwsdA-zOje",
        "outputId": "03d3a41d-2686-4c46-c527-6d6096fb21ab"
      },
      "execution_count": 29,
      "outputs": [
        {
          "output_type": "stream",
          "name": "stdout",
          "text": [
            "p-value для группы 1: 0.0\n",
            "p-value для группы 2: 0.0\n"
          ]
        },
        {
          "output_type": "stream",
          "name": "stderr",
          "text": [
            "/usr/local/lib/python3.10/dist-packages/scipy/stats/_morestats.py:1882: UserWarning: p-value may not be accurate for N > 5000.\n",
            "  warnings.warn(\"p-value may not be accurate for N > 5000.\")\n"
          ]
        }
      ]
    },
    {
      "cell_type": "markdown",
      "source": [
        "p-value для обеих групп меньше 0.05, что считается статистически значимым уровнем значимости. Это означает, что данные о количестве сетов в матчах в обеих временных группах не соответствуют нормальному распределению.\n",
        "\n",
        "Таким образом, для сравнения среднего количества сетов в матчах между двумя временными группами  нам следует рассмотреть использование непараметрических тестов, таких как тест Манна-Уитни или перестановочный тест, который не требует предположения о распределении данных."
      ],
      "metadata": {
        "id": "duec7cWW5qBp"
      }
    },
    {
      "cell_type": "code",
      "source": [
        "# Определяем период с 1986 по 1996 год\n",
        "start_date = pd.Timestamp('1986-01-01')\n",
        "end_date = pd.Timestamp('1996-12-31')\n",
        "\n",
        "# Фильтруем матчи за указанный период\n",
        "matches_1986_1996 = all_matches[(all_matches['tourney_date'] >= start_date) & (all_matches['tourney_date'] <= end_date)]\n",
        "\n",
        "# Определяем игроков, которые играли в течение десяти лет подряд\n",
        "players_10_years = []\n",
        "for player_id in matches_1986_1996['winner_id'].unique():\n",
        "    player_matches = matches_1986_1996[(matches_1986_1996['winner_id'] == player_id) | (matches_1986_1996['loser_id'] == player_id)]\n",
        "    player_years = player_matches['tourney_date'].dt.year.unique()\n",
        "    if len(player_years) == 11:\n",
        "        players_10_years.append(player_id)\n",
        "\n",
        "# Выводим список игроков на экран\n",
        "print(\"Игроки, которые играли десять лет подряд с 1986 по 1996 год:\")\n",
        "for player_id in players_10_years:\n",
        "    player_name = all_matches.loc[all_matches['winner_id'] == player_id, 'winner_name'].iloc[0]\n",
        "    print(f\"Игрок ID {player_id}: {player_name}\")"
      ],
      "metadata": {
        "colab": {
          "base_uri": "https://localhost:8080/"
        },
        "id": "MI3LH5sB-5-a",
        "outputId": "a95ee6ae-7188-438b-83c2-8f825575a421"
      },
      "execution_count": 30,
      "outputs": [
        {
          "output_type": "stream",
          "name": "stdout",
          "text": [
            "Игроки, которые играли десять лет подряд с 1986 по 1996 год:\n",
            "Игрок ID 101318: Javier Frana\n",
            "Игрок ID 101382: Marcelo Filippini\n",
            "Игрок ID 101374: Leonardo Lavalle\n",
            "Игрок ID 101150: Gianluca Pozzi\n",
            "Игрок ID 101265: Patrick McEnroe\n",
            "Игрок ID 101409: Jaime Yzaga\n",
            "Игрок ID 101731: Nuno Marques\n",
            "Игрок ID 101381: Aaron Krickstein\n",
            "Игрок ID 101439: Javier Sanchez\n",
            "Игрок ID 101230: Andrei Chesnokov\n",
            "Игрок ID 101026: Jim Grabb\n",
            "Игрок ID 101377: Christian Bergstrom\n",
            "Игрок ID 100837: Jeremy Bates\n",
            "Игрок ID 101179: Jean Philippe Fleurian\n",
            "Игрок ID 101120: Karel Novacek\n",
            "Игрок ID 100936: Henri Leconte\n",
            "Игрок ID 101086: Ronald Agenor\n",
            "Игрок ID 101063: Jordi Arrese\n",
            "Игрок ID 101098: Guy Forget\n",
            "Игрок ID 101404: Thomas Muster\n",
            "Игрок ID 101285: Thierry Champion\n",
            "Игрок ID 100757: Anders Jarryd\n",
            "Игрок ID 101084: Jakob Hlasek\n",
            "Игрок ID 101391: Carl Uwe Steeb\n",
            "Игрок ID 101142: Emilio Sanchez\n",
            "Игрок ID 101686: Franco Davin\n",
            "Игрок ID 101507: Tomas Carbonell\n",
            "Игрок ID 101222: Stefan Edberg\n",
            "Игрок ID 100997: Roger Smith\n",
            "Игрок ID 100284: Jimmy Connors\n",
            "Игрок ID 101414: Boris Becker\n",
            "Игрок ID 101481: Omar Camporese\n",
            "Игрок ID 101320: Magnus Gustafsson\n",
            "Игрок ID 101234: Patrik Kuhnen\n",
            "Игрок ID 101185: Mark Woodforde\n",
            "Игрок ID 101736: Andre Agassi\n",
            "Игрок ID 101412: Shuzo Matsuoka\n",
            "Игрок ID 100944: Mikael Pernfors\n",
            "Игрок ID 101191: Richey Reneberg\n",
            "Игрок ID 101334: Alexander Volkov\n",
            "Игрок ID 101358: Olivier Delaitre\n",
            "Игрок ID 101354: Andrew Sznajder\n",
            "Игрок ID 101416: Joao Cunha Silva\n",
            "Игрок ID 101601: Brett Steven\n",
            "Игрок ID 101609: David Wheaton\n",
            "Игрок ID 108532: Worapol Thongkamcho\n"
          ]
        }
      ]
    },
    {
      "cell_type": "code",
      "source": [
        "# Определяем идентификаторы игроков\n",
        "player_ids = [101404, 101601, 101120]\n",
        "player_names = ['Thomas Muster', 'Brett Steven', 'Karel Novacek']\n",
        "\n",
        "# Фильтруем матчи по идентификаторам игроков\n",
        "player_matches = all_matches[all_matches['winner_id'].isin(player_ids) | all_matches['loser_id'].isin(player_ids)]\n",
        "\n",
        "# Определяем период анализа (10 лет)\n",
        "start_date = pd.Timestamp('1986-01-01')\n",
        "end_date = pd.Timestamp('1996-12-31')\n",
        "\n",
        "# Фильтруем матчи за указанный период\n",
        "player_matches_10_years = player_matches[(player_matches['tourney_date'] >= start_date) & (player_matches['tourney_date'] <= end_date)]\n",
        "\n",
        "# Создаем пустой DataFrame для хранения данных о доле выигранных брейк-поинтов\n",
        "data = {'Player': [], 'BP_Won_Wins': [], 'BP_Won_Losses': []}\n",
        "\n",
        "# Вычисляем долю выигранных брейк-поинтов в победных и проигранных матчах для каждого игрока\n",
        "for player_id, player_name in zip(player_ids, player_names):\n",
        "    player_wins = player_matches_10_years[player_matches_10_years['winner_id'] == player_id]\n",
        "    player_losses = player_matches_10_years[player_matches_10_years['loser_id'] == player_id]\n",
        "\n",
        "    # Доля выигранных брейк-поинтов в победных матчах\n",
        "    bp_won_in_wins = player_wins['w_bpSaved'].sum() / player_wins['w_bpFaced'].sum()\n",
        "\n",
        "    # Доля выигранных брейк-поинтов в проигранных матчах\n",
        "    bp_won_in_losses = player_losses['l_bpSaved'].sum() / player_losses['l_bpFaced'].sum()\n",
        "\n",
        "    # Записываем данные в словарь\n",
        "    data['Player'].append(player_name)\n",
        "    data['BP_Won_Wins'].append(bp_won_in_wins)\n",
        "    data['BP_Won_Losses'].append(bp_won_in_losses)\n",
        "\n",
        "# Создаем DataFrame из данных\n",
        "df = pd.DataFrame(data)\n",
        "\n",
        "# Строим boxplot\n",
        "plt.figure(figsize=(10, 6))\n",
        "df.boxplot(column=['BP_Won_Wins', 'BP_Won_Losses'], by='Player')\n",
        "plt.title('Доля выигранных брейк-поинтов в победных и проигранных матчах по игрокам')\n",
        "plt.xlabel('Игрок')\n",
        "plt.ylabel('Доля выигранных брейк-поинтов')\n",
        "plt.xticks(rotation=45)\n",
        "plt.show()"
      ],
      "metadata": {
        "colab": {
          "base_uri": "https://localhost:8080/",
          "height": 567
        },
        "id": "M_ajoVAp_Ezy",
        "outputId": "6dc7f99d-2e78-44d1-a840-9fdebb74d200"
      },
      "execution_count": 31,
      "outputs": [
        {
          "output_type": "display_data",
          "data": {
            "text/plain": [
              "<Figure size 1000x600 with 0 Axes>"
            ]
          },
          "metadata": {}
        },
        {
          "output_type": "display_data",
          "data": {
            "text/plain": [
              "<Figure size 640x480 with 2 Axes>"
            ],
            "image/png": "[encoded data removed]"
          },
          "metadata": {}
        }
      ]
    },
    {
      "cell_type": "markdown",
      "source": [
        "Для сравнения различий между двумя выборками применяется тест Уилкоксона"
      ],
      "metadata": {
        "id": "Ipv_fmYpDQln"
      }
    },
    {
      "cell_type": "code",
      "source": [
        "# Документация: https://docs.scipy.org/doc/scipy/reference/generated/scipy.stats.wilcoxon.html\n",
        "# Проводим тесты для каждой пары игроков и для каждого типа матчей (победные и проигранные)\n",
        "for i in range(len(player_ids)):\n",
        "    for j in range(i + 1, len(player_ids)):\n",
        "        player1_wins = player_matches_10_years[(player_matches_10_years['winner_id'] == player_ids[i])]['w_bpSaved'] / player_matches_10_years[(player_matches_10_years['winner_id'] == player_ids[i])]['w_bpFaced']\n",
        "        player2_wins = player_matches_10_years[(player_matches_10_years['winner_id'] == player_ids[j])]['w_bpSaved'] / player_matches_10_years[(player_matches_10_years['winner_id'] == player_ids[j])]['w_bpFaced']\n",
        "\n",
        "        player1_losses = player_matches_10_years[(player_matches_10_years['loser_id'] == player_ids[i])]['l_bpSaved'] / player_matches_10_years[(player_matches_10_years['loser_id'] == player_ids[i])]['l_bpFaced']\n",
        "        player2_losses = player_matches_10_years[(player_matches_10_years['loser_id'] == player_ids[j])]['l_bpSaved'] / player_matches_10_years[(player_matches_10_years['loser_id'] == player_ids[j])]['l_bpFaced']\n",
        "\n",
        "        # Тест Уилкоксона для победных матчей\n",
        "        stat_wins, p_value_wins = mannwhitneyu(player1_wins.dropna(), player2_wins.dropna())\n",
        "\n",
        "        # Тест Уилкоксона для проигранных матчей\n",
        "        stat_losses, p_value_losses = mannwhitneyu(player1_losses.dropna(), player2_losses.dropna())\n",
        "\n",
        "        print(f\"Сравнение между {player_names[i]} и {player_names[j]}:\")\n",
        "        print(f\"Тест Уилкоксона для победных матчей: Statistic = {stat_wins}, p-value = {p_value_wins}\")\n",
        "        print(f\"Тест Уилкоксона для проигранных матчей: Statistic = {stat_losses}, p-value = {p_value_losses}\")\n"
      ],
      "metadata": {
        "colab": {
          "base_uri": "https://localhost:8080/"
        },
        "id": "JwnSBX3N_Xcn",
        "outputId": "14a54f0e-860f-464c-bfb1-341fb0f2f46f"
      },
      "execution_count": 32,
      "outputs": [
        {
          "output_type": "stream",
          "name": "stdout",
          "text": [
            "Сравнение между Thomas Muster и Brett Steven:\n",
            "Тест Уилкоксона для победных матчей: Statistic = 15407.0, p-value = 0.2543026077421442\n",
            "Тест Уилкоксона для проигранных матчей: Statistic = 6387.5, p-value = 0.1183237808615817\n",
            "Сравнение между Thomas Muster и Karel Novacek:\n",
            "Тест Уилкоксона для победных матчей: Statistic = 26147.0, p-value = 0.23003320839807384\n",
            "Тест Уилкоксона для проигранных матчей: Statistic = 7417.5, p-value = 0.9256029839523634\n",
            "Сравнение между Brett Steven и Karel Novacek:\n",
            "Тест Уилкоксона для победных матчей: Statistic = 8520.0, p-value = 0.8446528347325597\n",
            "Тест Уилкоксона для проигранных матчей: Statistic = 5417.0, p-value = 0.09540755609196745\n"
          ]
        }
      ]
    },
    {
      "cell_type": "markdown",
      "source": [
        "Thomas Muster vs. Brett Steven:\n",
        "Для победных матчей p-value = 0.2543, что говорит о том, что нет статистически значимой разницы в доле выигранных брейк-поинтов между Thomas Muster и Brett Steven в победных матчах.\n",
        "Для проигранных матчей p-value = 0.1183, что также указывает на отсутствие статистически значимой разницы в доле выигранных брейк-поинтов между ними в проигранных матчах.\n",
        "\n",
        "Thomas Muster vs. Karel Novacek:\n",
        "Для победных матчей p-value = 0.2300, что означает отсутствие статистически значимой разницы в доле выигранных брейк-поинтов между Thomas Muster и Karel Novacek в победных матчах.\n",
        "Для проигранных матчей p-value = 0.9256, что также свидетельствует о отсутствии статистически значимой разницы в доле выигранных брейк-поинтов между ними в проигранных матчах.\n",
        "\n",
        "Brett Steven vs. Karel Novacek:\n",
        "Для победных матчей p-value = 0.8447, что указывает на отсутствие статистически значимой разницы в доле выигранных брейк-поинтов между Brett Steven и Karel Novacek в победных матчах.\n",
        "Для проигранных матчей p-value = 0.0954, что говорит о том, что нет статистически значимой разницы в доле выигранных брейк-поинтов между ними в проигранных матчах.\n",
        "На основании данных тестов нет оснований для того, чтобы утверждать, что средняя доля выигранных брейк-поинтов в победных и проигранных матчах значимо различается между парами игроков."
      ],
      "metadata": {
        "id": "apQKxtYeEUYR"
      }
    },
    {
      "cell_type": "markdown",
      "source": [
        "Для наглядности заменим одного игрока"
      ],
      "metadata": {
        "id": "czKB6BCbGoHV"
      }
    },
    {
      "cell_type": "code",
      "source": [
        "# Определяем идентификаторы игроков\n",
        "player_ids = [101404, 101601, 101150]\n",
        "player_names = ['Thomas Muster', 'Brett Steven', 'Gianluca Pozzi']\n",
        "\n",
        "# Фильтруем матчи по идентификаторам игроков\n",
        "player_matches = all_matches[all_matches['winner_id'].isin(player_ids) | all_matches['loser_id'].isin(player_ids)]\n",
        "\n",
        "# Определяем период анализа (10 лет)\n",
        "start_date = pd.Timestamp('1986-01-01')\n",
        "end_date = pd.Timestamp('1996-12-31')\n",
        "\n",
        "# Фильтруем матчи за указанный период\n",
        "player_matches_10_years = player_matches[(player_matches['tourney_date'] >= start_date) & (player_matches['tourney_date'] <= end_date)]\n",
        "\n",
        "# Создаем пустой DataFrame для хранения данных о доле выигранных брейк-поинтов\n",
        "data = {'Player': [], 'BP_Won_Wins': [], 'BP_Won_Losses': []}\n",
        "\n",
        "# Вычисляем долю выигранных брейк-поинтов в победных и проигранных матчах для каждого игрока\n",
        "for player_id, player_name in zip(player_ids, player_names):\n",
        "    player_wins = player_matches_10_years[player_matches_10_years['winner_id'] == player_id]\n",
        "    player_losses = player_matches_10_years[player_matches_10_years['loser_id'] == player_id]\n",
        "\n",
        "    # Доля выигранных брейк-поинтов в победных матчах\n",
        "    bp_won_in_wins = player_wins['w_bpSaved'].sum() / player_wins['w_bpFaced'].sum()\n",
        "\n",
        "    # Доля выигранных брейк-поинтов в проигранных матчах\n",
        "    bp_won_in_losses = player_losses['l_bpSaved'].sum() / player_losses['l_bpFaced'].sum()\n",
        "\n",
        "    # Записываем данные в словарь\n",
        "    data['Player'].append(player_name)\n",
        "    data['BP_Won_Wins'].append(bp_won_in_wins)\n",
        "    data['BP_Won_Losses'].append(bp_won_in_losses)\n",
        "\n",
        "# Создаем DataFrame из данных\n",
        "df = pd.DataFrame(data)\n",
        "\n",
        "# Строим boxplot\n",
        "plt.figure(figsize=(10, 6))\n",
        "df.boxplot(column=['BP_Won_Wins', 'BP_Won_Losses'], by='Player')\n",
        "plt.title('Доля выигранных брейк-поинтов в победных и проигранных матчах по игрокам')\n",
        "plt.xlabel('Игрок')\n",
        "plt.ylabel('Доля выигранных брейк-поинтов')\n",
        "plt.xticks(rotation=45)\n",
        "plt.show()"
      ],
      "metadata": {
        "colab": {
          "base_uri": "https://localhost:8080/",
          "height": 567
        },
        "outputId": "8500aaaf-d206-45f8-97b2-7e078cdde2df",
        "id": "FvCpUq5eFR22"
      },
      "execution_count": 33,
      "outputs": [
        {
          "output_type": "display_data",
          "data": {
            "text/plain": [
              "<Figure size 1000x600 with 0 Axes>"
            ]
          },
          "metadata": {}
        },
        {
          "output_type": "display_data",
          "data": {
            "text/plain": [
              "<Figure size 640x480 with 2 Axes>"
            ],
            "image/png": "[encoded data removed]"
          },
          "metadata": {}
        }
      ]
    },
    {
      "cell_type": "code",
      "source": [
        "# Проводим тесты для каждой пары игроков и для каждого типа матчей (победные и проигранные)\n",
        "for i in range(len(player_ids)):\n",
        "    for j in range(i + 1, len(player_ids)):\n",
        "        player1_wins = player_matches_10_years[(player_matches_10_years['winner_id'] == player_ids[i])]['w_bpSaved'] / player_matches_10_years[(player_matches_10_years['winner_id'] == player_ids[i])]['w_bpFaced']\n",
        "        player2_wins = player_matches_10_years[(player_matches_10_years['winner_id'] == player_ids[j])]['w_bpSaved'] / player_matches_10_years[(player_matches_10_years['winner_id'] == player_ids[j])]['w_bpFaced']\n",
        "\n",
        "        player1_losses = player_matches_10_years[(player_matches_10_years['loser_id'] == player_ids[i])]['l_bpSaved'] / player_matches_10_years[(player_matches_10_years['loser_id'] == player_ids[i])]['l_bpFaced']\n",
        "        player2_losses = player_matches_10_years[(player_matches_10_years['loser_id'] == player_ids[j])]['l_bpSaved'] / player_matches_10_years[(player_matches_10_years['loser_id'] == player_ids[j])]['l_bpFaced']\n",
        "\n",
        "        # Тест Уилкоксона для победных матчей\n",
        "        stat_wins, p_value_wins = mannwhitneyu(player1_wins.dropna(), player2_wins.dropna())\n",
        "\n",
        "        # Тест Уилкоксона для проигранных матчей\n",
        "        stat_losses, p_value_losses = mannwhitneyu(player1_losses.dropna(), player2_losses.dropna())\n",
        "\n",
        "        print(f\"Сравнение между {player_names[i]} и {player_names[j]}:\")\n",
        "        print(f\"Тест Уилкоксона для победных матчей: Statistic = {stat_wins}, p-value = {p_value_wins}\")\n",
        "        print(f\"Тест Уилкоксона для проигранных матчей: Statistic = {stat_losses}, p-value = {p_value_losses}\")\n",
        "        print(\"-------------------------------------\")"
      ],
      "metadata": {
        "colab": {
          "base_uri": "https://localhost:8080/"
        },
        "id": "pEqQV_vhFx2u",
        "outputId": "b8314a71-1103-45a5-85f3-50e2432b0928"
      },
      "execution_count": 34,
      "outputs": [
        {
          "output_type": "stream",
          "name": "stdout",
          "text": [
            "Сравнение между Thomas Muster и Brett Steven:\n",
            "Тест Уилкоксона для победных матчей: Statistic = 15407.0, p-value = 0.2543026077421442\n",
            "Тест Уилкоксона для проигранных матчей: Statistic = 6387.5, p-value = 0.1183237808615817\n",
            "-------------------------------------\n",
            "Сравнение между Thomas Muster и Gianluca Pozzi:\n",
            "Тест Уилкоксона для победных матчей: Statistic = 14589.5, p-value = 0.3333708699859297\n",
            "Тест Уилкоксона для проигранных матчей: Statistic = 7934.5, p-value = 0.034903014131208616\n",
            "-------------------------------------\n",
            "Сравнение между Brett Steven и Gianluca Pozzi:\n",
            "Тест Уилкоксона для победных матчей: Statistic = 4691.5, p-value = 0.09324434815373445\n",
            "Тест Уилкоксона для проигранных матчей: Statistic = 6017.0, p-value = 0.6071716078424515\n",
            "-------------------------------------\n"
          ]
        }
      ]
    },
    {
      "cell_type": "markdown",
      "source": [
        "На основе полученных данных, можно сделать вывод о статистически значимой разнице в доле выигранных брейк-поинтов только в проигранных матчах между Thomas Muster и Gianluca Pozzi. В остальных сравнениях разница в доле выигранных брейк-поинтов не является статистически значимой."
      ],
      "metadata": {
        "id": "iaZQEZTVGwBy"
      }
    },
    {
      "cell_type": "markdown",
      "source": [
        "У вас есть гипотеза, что доля выигранных брейк-поинтов связана с вероятностью победить в игре. Соберите статистику, где для каждого матча будет собран его исход (победа/поражение) и доля выигранных брейк-поинтов (не забудьте, что в матче два игрока). Разделите долю выигранных брейкпоинтов на группы выше/ниже медианы и, используя информацию о исходе матча, проверьте зависимость между количеством выигранных брейкпоинтов и результатом матча. Насколько сильна эта зависимость? Выбор статистического теста обоснуйте."
      ],
      "metadata": {
        "id": "-cGn9laAvrBH"
      }
    },
    {
      "cell_type": "code",
      "source": [
        "# Загрузка данных из всех файлов\n",
        "file_pattern = \"atp_matches_*.csv\"\n",
        "file_paths = glob.glob(file_pattern)\n",
        "\n",
        "# Создание пустого DataFrame для хранения данных\n",
        "match_data = pd.DataFrame()\n",
        "\n",
        "# Чтение данных из каждого файла и их объединение\n",
        "for file in file_paths:\n",
        "    matches = pd.read_csv(file)\n",
        "    match_data = pd.concat([match_data, matches], ignore_index=True)\n",
        "\n",
        "# Создание нового столбца для вычисления доли выигранных брейк-поинтов у победителя\n",
        "match_data['w_bp_ratio'] = match_data['w_bpSaved'] / match_data['w_bpFaced']\n",
        "\n",
        "# Создание нового столбца для вычисления доли выигранных брейк-поинтов у проигравшего\n",
        "match_data['l_bp_ratio'] = match_data['l_bpSaved'] / match_data['l_bpFaced']\n",
        "# Z-тест применяется для сравнения долей выигранных брейк-поинтов у победителей и проигравших в теннисных матчах. Этот тест позволяет определить, есть ли статистически значимая разница между долями брейк-поинтов, выигранными победителями и проигравшими.\n",
        "\n",
        "# Применение Z-теста позволяет определить статистическую значимость различий между долями в двух выборках\n",
        "# и помогает ответить на вопрос о том, есть ли разница в этих долях, или же различия случайны.\n",
        "# Документация: https://docs.scipy.org/doc//scipy-1.8.0/reference/generated/scipy.stats.fligner.html\n",
        "# Подготовка данных для Z-теста\n",
        "w_bp_winner = match_data['w_bp_ratio'][match_data['w_bp_ratio'].notnull()]\n",
        "w_bp_loser = match_data['l_bp_ratio'][match_data['l_bp_ratio'].notnull()]\n",
        "\n",
        "# Выполнение Z-теста для сравнения долей\n",
        "statistic, p_value = proportions_ztest([w_bp_winner.count(), w_bp_loser.count()], [w_bp_winner.mean(), w_bp_loser.mean()])\n",
        "\n",
        "# Вывод результатов\n",
        "print(\"Statistic:\", statistic)\n",
        "print(\"p-value:\", p_value)\n",
        "\n",
        "\n",
        "# data1 и data2 - ваши выборки данных\n",
        "statistic, p_value = ranksums(data1, data2)\n",
        "\n",
        "print(\"Statistic:\", statistic)\n",
        "print(\"p-value:\", p_value)"
      ],
      "metadata": {
        "colab": {
          "base_uri": "https://localhost:8080/"
        },
        "id": "RNEnUA3KUZju",
        "outputId": "be400506-5c8e-4236-a7c3-a3cf4f01cb61"
      },
      "execution_count": 36,
      "outputs": [
        {
          "output_type": "stream",
          "name": "stdout",
          "text": [
            "Statistic: -inf\n",
            "p-value: 0.0\n",
            "Statistic: -1.0478606210694812\n",
            "p-value: 0.294702827609601\n"
          ]
        },
        {
          "output_type": "stream",
          "name": "stderr",
          "text": [
            "/usr/local/lib/python3.10/dist-packages/statsmodels/stats/weightstats.py:792: RuntimeWarning: divide by zero encountered in scalar divide\n",
            "  zstat = value / std\n"
          ]
        }
      ]
    },
    {
      "cell_type": "markdown",
      "source": [
        "Результаты Z-теста указывают на значительную статистическую разницу между долями выигранных брейк-поинтов у победителей и проигравших.\n",
        "p-value = 0, что означает, что вероятность получить такие или ещё более экстремальные результаты при условии, что нулевая гипотеза верна, очень мала. Нулевая гипотеза состоит в том, что доли брейк-поинтов у победителей и проигравших одинаковы.\n",
        "Из этого следует, что выигранные брейк-поинты имеют существенное значение для исхода матча, и вероятность их различия между победителями и проигравшими крайне низка. Однако значение статистики -inf может возникать из-за особенностей данных, таких как нулевые значения или другие особенности, которые могут повлиять на вычисление статистики."
      ],
      "metadata": {
        "id": "aHoRmrYZehdG"
      }
    },
    {
      "cell_type": "markdown",
      "source": [
        "Второй Тест Уилкоксона, или тест ранговых сумм, является непараметрическим тестом, который не требует предположений о нормальности данных и может быть более устойчивым к выбросам. Для второго теста статистика равна -1.04786, а p-значение равно 0.2947. Здесь p-значение больше 0.05, что означает отсутствие статистически значимой разницы между группами на уровне значимости 0.05."
      ],
      "metadata": {
        "id": "UUzoJExH3mj4"
      }
    }
  ]
}